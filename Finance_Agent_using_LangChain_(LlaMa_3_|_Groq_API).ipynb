{
  "nbformat": 4,
  "nbformat_minor": 0,
  "metadata": {
    "colab": {
      "provenance": [],
      "authorship_tag": "ABX9TyNcU4kn9jTkjlT87Dhb85NR",
      "include_colab_link": true
    },
    "kernelspec": {
      "name": "python3",
      "display_name": "Python 3"
    },
    "language_info": {
      "name": "python"
    }
  },
  "cells": [
    {
      "cell_type": "markdown",
      "metadata": {
        "id": "view-in-github",
        "colab_type": "text"
      },
      "source": [
        "<a href=\"https://colab.research.google.com/github/Shreyojit/AI-Finance-Agent-/blob/main/Finance_Agent_using_LangChain_(LlaMa_3_%7C_Groq_API).ipynb\" target=\"_parent\"><img src=\"https://colab.research.google.com/assets/colab-badge.svg\" alt=\"Open In Colab\"/></a>"
      ]
    },
    {
      "cell_type": "code",
      "execution_count": 1,
      "metadata": {
        "colab": {
          "base_uri": "https://localhost:8080/",
          "height": 36
        },
        "id": "PL1wAPX-W0g4",
        "outputId": "cffce043-c31a-46b7-e760-125a3be66a03"
      },
      "outputs": [
        {
          "output_type": "execute_result",
          "data": {
            "text/plain": [
              "'0.2.50'"
            ],
            "application/vnd.google.colaboratory.intrinsic+json": {
              "type": "string"
            }
          },
          "metadata": {},
          "execution_count": 1
        }
      ],
      "source": [
        "\n",
        "import yfinance as yf\n",
        "\n",
        "yf.__version__"
      ]
    },
    {
      "cell_type": "code",
      "source": [
        "\n",
        "groq_api_key='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'"
      ],
      "metadata": {
        "id": "C_9782ohW-wY"
      },
      "execution_count": 3,
      "outputs": []
    },
    {
      "cell_type": "code",
      "source": [
        "!pip install langchain-groq"
      ],
      "metadata": {
        "colab": {
          "base_uri": "https://localhost:8080/"
        },
        "id": "DSJByx86W9Mt",
        "outputId": "0f7215a9-b631-4c6e-ee40-70f7f74c33fc"
      },
      "execution_count": 2,
      "outputs": [
        {
          "output_type": "stream",
          "name": "stdout",
          "text": [
            "Collecting langchain-groq\n",
            "  Downloading langchain_groq-0.2.2-py3-none-any.whl.metadata (3.0 kB)\n",
            "Collecting groq<1,>=0.4.1 (from langchain-groq)\n",
            "  Downloading groq-0.13.1-py3-none-any.whl.metadata (14 kB)\n",
            "Collecting langchain-core<0.4.0,>=0.3.27 (from langchain-groq)\n",
            "  Downloading langchain_core-0.3.28-py3-none-any.whl.metadata (6.3 kB)\n",
            "Requirement already satisfied: anyio<5,>=3.5.0 in /usr/local/lib/python3.10/dist-packages (from groq<1,>=0.4.1->langchain-groq) (3.7.1)\n",
            "Requirement already satisfied: distro<2,>=1.7.0 in /usr/local/lib/python3.10/dist-packages (from groq<1,>=0.4.1->langchain-groq) (1.9.0)\n",
            "Requirement already satisfied: httpx<1,>=0.23.0 in /usr/local/lib/python3.10/dist-packages (from groq<1,>=0.4.1->langchain-groq) (0.28.1)\n",
            "Requirement already satisfied: pydantic<3,>=1.9.0 in /usr/local/lib/python3.10/dist-packages (from groq<1,>=0.4.1->langchain-groq) (2.10.3)\n",
            "Requirement already satisfied: sniffio in /usr/local/lib/python3.10/dist-packages (from groq<1,>=0.4.1->langchain-groq) (1.3.1)\n",
            "Requirement already satisfied: typing-extensions<5,>=4.10 in /usr/local/lib/python3.10/dist-packages (from groq<1,>=0.4.1->langchain-groq) (4.12.2)\n",
            "Requirement already satisfied: PyYAML>=5.3 in /usr/local/lib/python3.10/dist-packages (from langchain-core<0.4.0,>=0.3.27->langchain-groq) (6.0.2)\n",
            "Requirement already satisfied: jsonpatch<2.0,>=1.33 in /usr/local/lib/python3.10/dist-packages (from langchain-core<0.4.0,>=0.3.27->langchain-groq) (1.33)\n",
            "Requirement already satisfied: langsmith<0.3,>=0.1.125 in /usr/local/lib/python3.10/dist-packages (from langchain-core<0.4.0,>=0.3.27->langchain-groq) (0.2.3)\n",
            "Requirement already satisfied: packaging<25,>=23.2 in /usr/local/lib/python3.10/dist-packages (from langchain-core<0.4.0,>=0.3.27->langchain-groq) (24.2)\n",
            "Requirement already satisfied: tenacity!=8.4.0,<10.0.0,>=8.1.0 in /usr/local/lib/python3.10/dist-packages (from langchain-core<0.4.0,>=0.3.27->langchain-groq) (9.0.0)\n",
            "Requirement already satisfied: idna>=2.8 in /usr/local/lib/python3.10/dist-packages (from anyio<5,>=3.5.0->groq<1,>=0.4.1->langchain-groq) (3.10)\n",
            "Requirement already satisfied: exceptiongroup in /usr/local/lib/python3.10/dist-packages (from anyio<5,>=3.5.0->groq<1,>=0.4.1->langchain-groq) (1.2.2)\n",
            "Requirement already satisfied: certifi in /usr/local/lib/python3.10/dist-packages (from httpx<1,>=0.23.0->groq<1,>=0.4.1->langchain-groq) (2024.12.14)\n",
            "Requirement already satisfied: httpcore==1.* in /usr/local/lib/python3.10/dist-packages (from httpx<1,>=0.23.0->groq<1,>=0.4.1->langchain-groq) (1.0.7)\n",
            "Requirement already satisfied: h11<0.15,>=0.13 in /usr/local/lib/python3.10/dist-packages (from httpcore==1.*->httpx<1,>=0.23.0->groq<1,>=0.4.1->langchain-groq) (0.14.0)\n",
            "Requirement already satisfied: jsonpointer>=1.9 in /usr/local/lib/python3.10/dist-packages (from jsonpatch<2.0,>=1.33->langchain-core<0.4.0,>=0.3.27->langchain-groq) (3.0.0)\n",
            "Requirement already satisfied: orjson<4.0.0,>=3.9.14 in /usr/local/lib/python3.10/dist-packages (from langsmith<0.3,>=0.1.125->langchain-core<0.4.0,>=0.3.27->langchain-groq) (3.10.12)\n",
            "Requirement already satisfied: requests<3,>=2 in /usr/local/lib/python3.10/dist-packages (from langsmith<0.3,>=0.1.125->langchain-core<0.4.0,>=0.3.27->langchain-groq) (2.32.3)\n",
            "Requirement already satisfied: requests-toolbelt<2.0.0,>=1.0.0 in /usr/local/lib/python3.10/dist-packages (from langsmith<0.3,>=0.1.125->langchain-core<0.4.0,>=0.3.27->langchain-groq) (1.0.0)\n",
            "Requirement already satisfied: annotated-types>=0.6.0 in /usr/local/lib/python3.10/dist-packages (from pydantic<3,>=1.9.0->groq<1,>=0.4.1->langchain-groq) (0.7.0)\n",
            "Requirement already satisfied: pydantic-core==2.27.1 in /usr/local/lib/python3.10/dist-packages (from pydantic<3,>=1.9.0->groq<1,>=0.4.1->langchain-groq) (2.27.1)\n",
            "Requirement already satisfied: charset-normalizer<4,>=2 in /usr/local/lib/python3.10/dist-packages (from requests<3,>=2->langsmith<0.3,>=0.1.125->langchain-core<0.4.0,>=0.3.27->langchain-groq) (3.4.0)\n",
            "Requirement already satisfied: urllib3<3,>=1.21.1 in /usr/local/lib/python3.10/dist-packages (from requests<3,>=2->langsmith<0.3,>=0.1.125->langchain-core<0.4.0,>=0.3.27->langchain-groq) (2.2.3)\n",
            "Downloading langchain_groq-0.2.2-py3-none-any.whl (14 kB)\n",
            "Downloading groq-0.13.1-py3-none-any.whl (109 kB)\n",
            "\u001b[2K   \u001b[90m━━━━━━━━━━━━━━━━━━━━━━━━━━━━━━━━━━━━━━━━\u001b[0m \u001b[32m109.1/109.1 kB\u001b[0m \u001b[31m4.1 MB/s\u001b[0m eta \u001b[36m0:00:00\u001b[0m\n",
            "\u001b[?25hDownloading langchain_core-0.3.28-py3-none-any.whl (411 kB)\n",
            "\u001b[2K   \u001b[90m━━━━━━━━━━━━━━━━━━━━━━━━━━━━━━━━━━━━━━━━\u001b[0m \u001b[32m411.6/411.6 kB\u001b[0m \u001b[31m15.6 MB/s\u001b[0m eta \u001b[36m0:00:00\u001b[0m\n",
            "\u001b[?25hInstalling collected packages: groq, langchain-core, langchain-groq\n",
            "  Attempting uninstall: langchain-core\n",
            "    Found existing installation: langchain-core 0.3.25\n",
            "    Uninstalling langchain-core-0.3.25:\n",
            "      Successfully uninstalled langchain-core-0.3.25\n",
            "Successfully installed groq-0.13.1 langchain-core-0.3.28 langchain-groq-0.2.2\n"
          ]
        }
      ]
    },
    {
      "cell_type": "code",
      "source": [
        "from langchain_groq import ChatGroq\n",
        "\n",
        "llama3 = ChatGroq(api_key=groq_api_key, model=\"llama3-70b-8192\")\n",
        "\n",
        "llama3"
      ],
      "metadata": {
        "colab": {
          "base_uri": "https://localhost:8080/"
        },
        "id": "dVDv6dfTXV2-",
        "outputId": "a97fb9e3-b262-4a10-f77c-a97395a480fa"
      },
      "execution_count": 10,
      "outputs": [
        {
          "output_type": "execute_result",
          "data": {
            "text/plain": [
              "ChatGroq(client=<groq.resources.chat.completions.Completions object at 0x7fbfe6ef3ca0>, async_client=<groq.resources.chat.completions.AsyncCompletions object at 0x7fbfe6ef2410>, model_name='llama3-70b-8192', model_kwargs={}, groq_api_key=SecretStr('**********'))"
            ]
          },
          "metadata": {},
          "execution_count": 10
        }
      ]
    },
    {
      "cell_type": "markdown",
      "source": [
        "#Define Tools"
      ],
      "metadata": {
        "id": "eIX9b6OCXywd"
      }
    },
    {
      "cell_type": "code",
      "source": [
        "from langchain_core.tools import tool, StructuredTool\n",
        "from datetime import date\n",
        "\n",
        "@tool\n",
        "def company_information(ticker: str) -> dict:\n",
        "    \"\"\"Use this tool to retrieve company information like address, industry, sector, company officers, business summary, website,\n",
        "       marketCap, current price, ebitda, total debt, total revenue, debt-to-equity, etc.\"\"\"\n",
        "\n",
        "    ticker_obj = yf.Ticker(ticker)\n",
        "    ticker_info = ticker_obj.get_info()\n",
        "\n",
        "    return ticker_info\n",
        "\n",
        "@tool\n",
        "def last_dividend_and_earnings_date(ticker: str) -> dict:\n",
        "    \"\"\"\n",
        "    Use this tool to retrieve company's last dividend date and earnings release dates.\n",
        "    It does not provide information about historical dividend yields.\n",
        "    \"\"\"\n",
        "    ticker_obj = yf.Ticker(ticker)\n",
        "\n",
        "    return ticker_obj.get_calendar()\n",
        "\n",
        "@tool\n",
        "def summary_of_mutual_fund_holders(ticker: str) -> dict:\n",
        "    \"\"\"\n",
        "    Use this tool to retrieve company's top mutual fund holders.\n",
        "    It also returns their percentage of share, stock count and value of holdings.\n",
        "    \"\"\"\n",
        "    ticker_obj = yf.Ticker(ticker)\n",
        "    mf_holders = ticker_obj.get_mutualfund_holders()\n",
        "\n",
        "    return mf_holders.to_dict(orient=\"records\")\n",
        "\n",
        "@tool\n",
        "def summary_of_institutional_holders(ticker: str) -> dict:\n",
        "    \"\"\"\n",
        "    Use this tool to retrieve company's top institutional holders.\n",
        "    It also returns their percentage of share, stock count and value of holdings.\n",
        "    \"\"\"\n",
        "    ticker_obj = yf.Ticker(ticker)\n",
        "    inst_holders = ticker_obj.get_institutional_holders()\n",
        "\n",
        "    return inst_holders.to_dict(orient=\"records\")\n",
        "\n",
        "@tool\n",
        "def stock_grade_updrages_downgrades(ticker: str) -> dict:\n",
        "    \"\"\"\n",
        "    Use this to retrieve grade ratings upgrades and downgrades details of particular stock.\n",
        "    It'll provide name of firms along with 'To Grade' and 'From Grade' details. Grade date is also provided.\n",
        "    \"\"\"\n",
        "    ticker_obj = yf.Ticker(ticker)\n",
        "\n",
        "    curr_year = date.today().year\n",
        "\n",
        "    upgrades_downgrades = ticker_obj.get_upgrades_downgrades()\n",
        "    upgrades_downgrades = upgrades_downgrades.loc[upgrades_downgrades.index > f\"{curr_year}-01-01\"]\n",
        "    upgrades_downgrades = upgrades_downgrades[upgrades_downgrades[\"Action\"].isin([\"up\", \"down\"])]\n",
        "\n",
        "    return upgrades_downgrades.to_dict(orient=\"records\")\n",
        "\n",
        "@tool\n",
        "def stock_splits_history(ticker: str) -> dict:\n",
        "    \"\"\"\n",
        "    Use this tool to retrieve company's historical stock splits data.\n",
        "    \"\"\"\n",
        "    ticker_obj = yf.Ticker(ticker)\n",
        "    hist_splits = ticker_obj.get_splits()\n",
        "\n",
        "    return hist_splits.to_dict()\n",
        "\n",
        "@tool\n",
        "def stock_news(ticker: str) -> dict:\n",
        "    \"\"\"\n",
        "    Use this to retrieve latest news articles discussing particular stock ticker.\n",
        "    \"\"\"\n",
        "    ticker_obj = yf.Ticker(ticker)\n",
        "\n",
        "    return ticker_obj.get_news()\n",
        "\n",
        "\n",
        "#stock_news_tool = StructuredTool.from_function(stock_news)"
      ],
      "metadata": {
        "id": "kScDaw1hXxLJ"
      },
      "execution_count": 8,
      "outputs": []
    },
    {
      "cell_type": "markdown",
      "source": [
        "3.Define Agents(LLM+Tools)"
      ],
      "metadata": {
        "id": "3H8g0SOVX_NM"
      }
    },
    {
      "cell_type": "code",
      "source": [
        "from langchain.agents import AgentExecutor, create_tool_calling_agent\n",
        "from langchain_groq import ChatGroq\n",
        "from langchain.prompts import ChatPromptTemplate\n",
        "from langchain_core.prompts import MessagesPlaceholder\n",
        "\n",
        "tools = [\n",
        "         company_information,\n",
        "         last_dividend_and_earnings_date,\n",
        "         stock_splits_history,\n",
        "         summary_of_mutual_fund_holders,\n",
        "         summary_of_institutional_holders,\n",
        "         stock_grade_updrages_downgrades,\n",
        "         stock_news\n",
        "]\n",
        "\n",
        "prompt = ChatPromptTemplate.from_messages(\n",
        "    [\n",
        "        (\n",
        "            \"system\",\n",
        "            \"You are a helpful assistant. Try to answer user query using available tools.\",\n",
        "        ),\n",
        "        MessagesPlaceholder(variable_name=\"messages\"),\n",
        "        MessagesPlaceholder(variable_name=\"agent_scratchpad\"),\n",
        "    ]\n",
        ")\n",
        "\n",
        "llama3 = ChatGroq(api_key=groq_api_key, model=\"llama3-70b-8192\", temperature=0)\n",
        "\n",
        "finance_agent = create_tool_calling_agent(llama3, tools, prompt)\n",
        "\n",
        "finance_agent_executor = AgentExecutor(agent=finance_agent, tools=tools, verbose=True)"
      ],
      "metadata": {
        "id": "dRfyFM9PX92-"
      },
      "execution_count": 23,
      "outputs": []
    },
    {
      "cell_type": "code",
      "source": [
        "from langchain_core.messages import HumanMessage\n",
        "\n",
        "resp = finance_agent_executor.invoke({\"messages\": [HumanMessage(content=\"What is address of microsoft?\")]})"
      ],
      "metadata": {
        "colab": {
          "base_uri": "https://localhost:8080/"
        },
        "id": "P99sgZkoYKCy",
        "outputId": "c536f77b-5e2e-445b-80ff-81f1f3059e57"
      },
      "execution_count": 11,
      "outputs": [
        {
          "output_type": "stream",
          "name": "stdout",
          "text": [
            "\n",
            "\n",
            "\u001b[1m> Entering new AgentExecutor chain...\u001b[0m\n",
            "\u001b[32;1m\u001b[1;3m\n",
            "Invoking: `company_information` with `{'ticker': 'MSFT'}`\n",
            "\n",
            "\n",
            "\u001b[0m\u001b[36;1m\u001b[1;3m{'address1': 'One Microsoft Way', 'city': 'Redmond', 'state': 'WA', 'zip': '98052-6399', 'country': 'United States', 'phone': '425 882 8080', 'website': 'https://www.microsoft.com', 'industry': 'Software - Infrastructure', 'industryKey': 'software-infrastructure', 'industryDisp': 'Software - Infrastructure', 'sector': 'Technology', 'sectorKey': 'technology', 'sectorDisp': 'Technology', 'longBusinessSummary': 'Microsoft Corporation develops and supports software, services, devices and solutions worldwide. The Productivity and Business Processes segment offers office, exchange, SharePoint, Microsoft Teams, office 365 Security and Compliance, Microsoft viva, and Microsoft 365 copilot; and office consumer services, such as Microsoft 365 consumer subscriptions, Office licensed on-premises, and other office services. This segment also provides LinkedIn; and dynamics business solutions, including Dynamics 365, a set of intelligent, cloud-based applications across ERP, CRM, power apps, and power automate; and on-premises ERP and CRM applications. The Intelligent Cloud segment offers server products and cloud services, such as azure and other cloud services; SQL and windows server, visual studio, system center, and related client access licenses, as well as nuance and GitHub; and enterprise services including enterprise support services, industry solutions, and nuance professional services. The More Personal Computing segment offers Windows, including windows OEM licensing and other non-volume licensing of the Windows operating system; Windows commercial comprising volume licensing of the Windows operating system, windows cloud services, and other Windows commercial offerings; patent licensing; and windows Internet of Things; and devices, such as surface, HoloLens, and PC accessories. Additionally, this segment provides gaming, which includes Xbox hardware and content, and first- and third-party content; Xbox game pass and other subscriptions, cloud gaming, advertising, third-party disc royalties, and other cloud services; and search and news advertising, which includes Bing, Microsoft News and Edge, and third-party affiliates. The company sells its products through OEMs, distributors, and resellers; and directly through digital marketplaces, online, and retail stores. The company was founded in 1975 and is headquartered in Redmond, Washington.', 'fullTimeEmployees': 228000, 'companyOfficers': [{'maxAge': 1, 'name': 'Mr. Satya  Nadella', 'age': 56, 'title': 'Chairman & CEO', 'yearBorn': 1967, 'fiscalYear': 2024, 'totalPay': 7869791, 'exercisedValue': 0, 'unexercisedValue': 0}, {'maxAge': 1, 'name': 'Mr. Bradford L. Smith LCA', 'age': 64, 'title': 'President & Vice Chairman', 'yearBorn': 1959, 'fiscalYear': 2024, 'totalPay': 4755618, 'exercisedValue': 0, 'unexercisedValue': 0}, {'maxAge': 1, 'name': 'Ms. Amy E. Hood', 'age': 51, 'title': 'Executive VP & CFO', 'yearBorn': 1972, 'fiscalYear': 2024, 'totalPay': 4704250, 'exercisedValue': 0, 'unexercisedValue': 0}, {'maxAge': 1, 'name': 'Mr. Judson B. Althoff', 'age': 50, 'title': 'Executive VP & Chief Commercial Officer', 'yearBorn': 1973, 'fiscalYear': 2024, 'totalPay': 4534974, 'exercisedValue': 0, 'unexercisedValue': 0}, {'maxAge': 1, 'name': 'Mr. Christopher David Young', 'age': 51, 'title': 'Executive Vice President of Business Development, Strategy & Ventures', 'yearBorn': 1972, 'fiscalYear': 2024, 'totalPay': 2993772, 'exercisedValue': 0, 'unexercisedValue': 0}, {'maxAge': 1, 'name': 'Ms. Carolina  Dybeck Happe', 'age': 51, 'title': 'Executive VP & COO', 'yearBorn': 1972, 'fiscalYear': 2024, 'exercisedValue': 0, 'unexercisedValue': 0}, {'maxAge': 1, 'name': 'Ms. Alice L. Jolla', 'age': 57, 'title': 'Corporate VP & Chief Accounting Officer', 'yearBorn': 1966, 'fiscalYear': 2024, 'exercisedValue': 0, 'unexercisedValue': 0}, {'maxAge': 1, 'name': 'Mr. James Kevin Scott', 'age': 51, 'title': 'Executive VP of AI & CTO', 'yearBorn': 1972, 'fiscalYear': 2024, 'exercisedValue': 0, 'unexercisedValue': 0}, {'maxAge': 1, 'name': 'Mr. Brett  Iversen', 'title': 'Vice President of Investor Relations', 'fiscalYear': 2024, 'exercisedValue': 0, 'unexercisedValue': 0}, {'maxAge': 1, 'name': 'Mr. Hossein  Nowbar', 'title': 'Chief Legal Officer', 'fiscalYear': 2024, 'exercisedValue': 0, 'unexercisedValue': 0}], 'auditRisk': 6, 'boardRisk': 5, 'compensationRisk': 4, 'shareHolderRightsRisk': 2, 'overallRisk': 3, 'governanceEpochDate': 1733011200, 'compensationAsOfEpochDate': 1735603200, 'irWebsite': 'http://www.microsoft.com/investor/default.aspx', 'maxAge': 86400, 'priceHint': 2, 'previousClose': 438.11, 'open': 434.91, 'dayLow': 426.35, 'dayHigh': 435.22, 'regularMarketPreviousClose': 438.11, 'regularMarketOpen': 434.91, 'regularMarketDayLow': 426.35, 'regularMarketDayHigh': 435.22, 'dividendRate': 3.32, 'dividendYield': 0.0077, 'exDividendDate': 1740009600, 'payoutRatio': 0.2477, 'fiveYearAvgDividendYield': 0.87, 'beta': 0.904, 'trailingPE': 35.58099, 'forwardPE': 28.671322, 'volume': 18065824, 'regularMarketVolume': 18065824, 'averageVolume': 20846803, 'averageVolume10days': 23078830, 'averageDailyVolume10Day': 23078830, 'bid': 430.23, 'ask': 430.97, 'bidSize': 300, 'askSize': 200, 'marketCap': 3200938934272, 'fiftyTwoWeekLow': 366.5, 'fiftyTwoWeekHigh': 468.35, 'priceToSalesTrailing12Months': 12.592702, 'fiftyDayAverage': 428.3206, 'twoHundredDayAverage': 425.1431, 'trailingAnnualDividendRate': 3.08, 'trailingAnnualDividendYield': 0.007030198, 'currency': 'USD', 'enterpriseValue': 3219348258816, 'profitMargins': 0.35608003, 'floatShares': 7424694989, 'sharesOutstanding': 7434880000, 'sharesShort': 60224820, 'sharesShortPriorMonth': 56018482, 'sharesShortPreviousMonthDate': 1731628800, 'dateShortInterest': 1734048000, 'sharesPercentSharesOut': 0.0081, 'heldPercentInsiders': 0.00055, 'heldPercentInstitutions': 0.73537004, 'shortRatio': 2.78, 'shortPercentOfFloat': 0.0081, 'impliedSharesOutstanding': 7434880000, 'bookValue': 38.693, 'priceToBook': 11.126819, 'lastFiscalYearEnd': 1719705600, 'nextFiscalYearEnd': 1751241600, 'mostRecentQuarter': 1727654400, 'earningsQuarterlyGrowth': 0.107, 'netIncomeToCommon': 90511998976, 'trailingEps': 12.1, 'forwardEps': 14.95, 'lastSplitFactor': '2:1', 'lastSplitDate': 1045526400, 'enterpriseToRevenue': 12.665, 'enterpriseToEbitda': 23.576, '52WeekChange': 0.16086495, 'SandP52WeekChange': 0.25891924, 'lastDividendValue': 0.75, 'lastDividendDate': 1723680000, 'exchange': 'NMS', 'quoteType': 'EQUITY', 'symbol': 'MSFT', 'underlyingSymbol': 'MSFT', 'shortName': 'Microsoft Corporation', 'longName': 'Microsoft Corporation', 'firstTradeDateEpochUtc': 511108200, 'timeZoneFullName': 'America/New_York', 'timeZoneShortName': 'EST', 'uuid': 'b004b3ec-de24-385e-b2c1-923f10d3fb62', 'messageBoardId': 'finmb_21835', 'gmtOffSetMilliseconds': -18000000, 'currentPrice': 430.53, 'targetHighPrice': 650.0, 'targetLowPrice': 420.0, 'targetMeanPrice': 508.5454, 'targetMedianPrice': 500.0, 'recommendationMean': 1.41818, 'recommendationKey': 'strong_buy', 'numberOfAnalystOpinions': 48, 'totalCash': 78429003776, 'totalCashPerShare': 10.549, 'ebitda': 136551997440, 'totalDebt': 96838000640, 'quickRatio': 1.163, 'currentRatio': 1.301, 'totalRevenue': 254189993984, 'debtToEquity': 33.657, 'revenuePerShare': 34.202, 'returnOnAssets': 0.14592, 'returnOnEquity': 0.35604, 'freeCashflow': 61280874496, 'operatingCashflow': 122144997376, 'earningsGrowth': 0.104, 'revenueGrowth': 0.16, 'grossMargins': 0.69348997, 'ebitdaMargins': 0.53720003, 'operatingMargins': 0.46583998, 'financialCurrency': 'USD', 'trailingPegRatio': 2.26}\u001b[0m\u001b[32;1m\u001b[1;3mThe address of Microsoft is One Microsoft Way, Redmond, WA 98052-6399, United States.\u001b[0m\n",
            "\n",
            "\u001b[1m> Finished chain.\u001b[0m\n"
          ]
        }
      ]
    },
    {
      "cell_type": "code",
      "source": [
        "resp = finance_agent_executor.invoke({\"messages\": [HumanMessage(content=\"What is dividend yield for microsoft stock?\")]})"
      ],
      "metadata": {
        "id": "ilaTFEphYlS_"
      },
      "execution_count": 14,
      "outputs": []
    },
    {
      "cell_type": "code",
      "source": [
        "print(resp[\"output\"])"
      ],
      "metadata": {
        "colab": {
          "base_uri": "https://localhost:8080/"
        },
        "id": "kC89eqOtYoFR",
        "outputId": "5de56ab7-29d6-4721-a73c-aa13e5fcf4b8"
      },
      "execution_count": 16,
      "outputs": [
        {
          "output_type": "stream",
          "name": "stdout",
          "text": [
            "The dividend yield for Microsoft stock is 0.77%.\n"
          ]
        }
      ]
    },
    {
      "cell_type": "code",
      "source": [
        "resp = finance_agent_executor.invoke({\"messages\": [HumanMessage(content=\"Summarize Key people at apple\")]})"
      ],
      "metadata": {
        "id": "0hnSlUheY54y"
      },
      "execution_count": 19,
      "outputs": []
    },
    {
      "cell_type": "code",
      "source": [
        "\n",
        "print(resp[\"output\"])"
      ],
      "metadata": {
        "colab": {
          "base_uri": "https://localhost:8080/"
        },
        "id": "OATf7Q1hatns",
        "outputId": "c1c71cf5-15c5-4a00-c1b3-3beff71fe45b"
      },
      "execution_count": 20,
      "outputs": [
        {
          "output_type": "stream",
          "name": "stdout",
          "text": [
            "Here is a summary of the key people at Apple:\n",
            "\n",
            "1. **Timothy D. Cook** - CEO & Director, age 62\n",
            "2. **Luca Maestri** - CFO & Senior VP, age 60\n",
            "3. **Jeffrey E. Williams** - Chief Operating Officer, age 59\n",
            "4. **Katherine L. Adams** - Senior VP, General Counsel & Secretary, age 59\n",
            "5. **Deirdre O'Brien** - Chief People Officer & Senior VP of Retail, age 56\n",
            "6. **Chris Kondo** - Senior Director of Corporate Accounting\n",
            "7. **Suhasini Chandramouli** - Director of Investor Relations\n",
            "8. **Greg Joswiak** - Senior Vice President of Worldwide Marketing\n",
            "9. **Adrian Perica** - Head of Corporate Development, age 49\n",
            "10. **Michael Fenger** - VP of Worldwide Sales\n"
          ]
        }
      ]
    },
    {
      "cell_type": "code",
      "source": [
        "resp = finance_agent_executor.invoke({\"messages\": [HumanMessage(content=\"What was last dividend date for apple stock?\")]})"
      ],
      "metadata": {
        "id": "5cMqMmtsa3iq"
      },
      "execution_count": 21,
      "outputs": []
    },
    {
      "cell_type": "code",
      "source": [
        "print(resp[\"output\"])"
      ],
      "metadata": {
        "colab": {
          "base_uri": "https://localhost:8080/"
        },
        "id": "6REzWS0ma9EH",
        "outputId": "ec5d30e8-b291-4fd3-e680-1fefa3215cb3"
      },
      "execution_count": 22,
      "outputs": [
        {
          "output_type": "stream",
          "name": "stdout",
          "text": [
            "The last dividend date for Apple stock is November 14, 2024.\n"
          ]
        }
      ]
    },
    {
      "cell_type": "code",
      "source": [
        "resp = finance_agent_executor.invoke({\"messages\": [HumanMessage(content=\"Top mutual fund holders of microsoft stock.\")]})"
      ],
      "metadata": {
        "colab": {
          "base_uri": "https://localhost:8080/"
        },
        "id": "bKnw7Keqa-SD",
        "outputId": "bf755a3c-de8d-4912-fe35-f09a138320df"
      },
      "execution_count": 25,
      "outputs": [
        {
          "output_type": "stream",
          "name": "stdout",
          "text": [
            "\n",
            "\n",
            "\u001b[1m> Entering new AgentExecutor chain...\u001b[0m\n",
            "\u001b[32;1m\u001b[1;3m\n",
            "Invoking: `summary_of_mutual_fund_holders` with `{'ticker': 'MSFT'}`\n",
            "\n",
            "\n",
            "\u001b[0m\u001b[36;1m\u001b[1;3m[{'Date Reported': Timestamp('2023-06-30 00:00:00'), 'Holder': 'Vanguard Total Stock Market Index Fund', 'pctHeld': 0.0312, 'Shares': 231883087, 'Value': 78965466446}, {'Date Reported': Timestamp('2023-06-30 00:00:00'), 'Holder': 'Vanguard 500 Index Fund', 'pctHeld': 0.0238, 'Shares': 177034936, 'Value': 60287477105}, {'Date Reported': Timestamp('2023-08-31 00:00:00'), 'Holder': 'Fidelity 500 Index Fund', 'pctHeld': 0.0115, 'Shares': 85181943, 'Value': 27919233637}, {'Date Reported': Timestamp('2023-09-30 00:00:00'), 'Holder': 'SPDR S&P 500 ETF Trust', 'pctHeld': 0.0112, 'Shares': 83514381, 'Value': 26369665800}, {'Date Reported': Timestamp('2023-09-30 00:00:00'), 'Holder': 'iShares Core S&P 500 ETF', 'pctHeld': 0.0095, 'Shares': 70264910, 'Value': 22186145332}, {'Date Reported': Timestamp('2023-06-30 00:00:00'), 'Holder': 'Vanguard Growth Index Fund', 'pctHeld': 0.0085, 'Shares': 63262454, 'Value': 21543396085}, {'Date Reported': Timestamp('2023-08-31 00:00:00'), 'Holder': 'Invesco ETF Tr-Invesco QQQ Tr, Series 1 ETF', 'pctHeld': 0.007900001, 'Shares': 58757680, 'Value': 19258417196}, {'Date Reported': Timestamp('2023-06-30 00:00:00'), 'Holder': 'Vanguard Institutional Index Fund-Institutional Index Fund', 'pctHeld': 0.0068, 'Shares': 50756950, 'Value': 17284771753}, {'Date Reported': Timestamp('2023-08-31 00:00:00'), 'Holder': 'Vanguard Information Technology Index Fund', 'pctHeld': 0.0053, 'Shares': 39119308, 'Value': 12821744390}, {'Date Reported': Timestamp('2023-09-30 00:00:00'), 'Holder': 'Growth Fund Of America Inc', 'pctHeld': 0.0053, 'Shares': 39310503, 'Value': 12412291322}]\u001b[0m\u001b[32;1m\u001b[1;3mHere are the top mutual fund holders of Microsoft stock:\n",
            "\n",
            "1. Vanguard Total Stock Market Index Fund - 3.12% of shares held\n",
            "2. Vanguard 500 Index Fund - 2.38% of shares held\n",
            "3. Fidelity 500 Index Fund - 1.15% of shares held\n",
            "4. SPDR S&P 500 ETF Trust - 1.12% of shares held\n",
            "5. iShares Core S&P 500 ETF - 0.95% of shares held\n",
            "6. Vanguard Growth Index Fund - 0.85% of shares held\n",
            "7. Invesco ETF Tr-Invesco QQQ Tr, Series 1 ETF - 0.79% of shares held\n",
            "8. Vanguard Institutional Index Fund-Institutional Index Fund - 0.68% of shares held\n",
            "9. Vanguard Information Technology Index Fund - 0.53% of shares held\n",
            "10. Growth Fund Of America Inc - 0.53% of shares held\u001b[0m\n",
            "\n",
            "\u001b[1m> Finished chain.\u001b[0m\n"
          ]
        }
      ]
    },
    {
      "cell_type": "code",
      "source": [
        "print(resp[\"output\"])"
      ],
      "metadata": {
        "colab": {
          "base_uri": "https://localhost:8080/"
        },
        "id": "R6bpcZIUbD-V",
        "outputId": "ad0751a7-1f0b-4899-910a-973df7003b5a"
      },
      "execution_count": 26,
      "outputs": [
        {
          "output_type": "stream",
          "name": "stdout",
          "text": [
            "Here are the top mutual fund holders of Microsoft stock:\n",
            "\n",
            "1. Vanguard Total Stock Market Index Fund - 3.12% of shares held\n",
            "2. Vanguard 500 Index Fund - 2.38% of shares held\n",
            "3. Fidelity 500 Index Fund - 1.15% of shares held\n",
            "4. SPDR S&P 500 ETF Trust - 1.12% of shares held\n",
            "5. iShares Core S&P 500 ETF - 0.95% of shares held\n",
            "6. Vanguard Growth Index Fund - 0.85% of shares held\n",
            "7. Invesco ETF Tr-Invesco QQQ Tr, Series 1 ETF - 0.79% of shares held\n",
            "8. Vanguard Institutional Index Fund-Institutional Index Fund - 0.68% of shares held\n",
            "9. Vanguard Information Technology Index Fund - 0.53% of shares held\n",
            "10. Growth Fund Of America Inc - 0.53% of shares held\n"
          ]
        }
      ]
    },
    {
      "cell_type": "code",
      "source": [
        "resp = finance_agent_executor.invoke({\"messages\": [HumanMessage(content=\"Top institutional holders of microsoft stock.\")]})"
      ],
      "metadata": {
        "colab": {
          "base_uri": "https://localhost:8080/"
        },
        "id": "dad52HtJbKXl",
        "outputId": "57272256-f784-4ef9-8d97-2fb6fb11ea6d"
      },
      "execution_count": 27,
      "outputs": [
        {
          "output_type": "stream",
          "name": "stdout",
          "text": [
            "\n",
            "\n",
            "\u001b[1m> Entering new AgentExecutor chain...\u001b[0m\n",
            "\u001b[32;1m\u001b[1;3m\n",
            "Invoking: `summary_of_institutional_holders` with `{'ticker': 'MSFT'}`\n",
            "\n",
            "\n",
            "\u001b[0m\u001b[33;1m\u001b[1;3m[{'Date Reported': Timestamp('2023-06-30 00:00:00'), 'Holder': 'Vanguard Group Inc', 'pctHeld': 0.0879, 'Shares': 653247546, 'Value': 222456919314}, {'Date Reported': Timestamp('2023-06-30 00:00:00'), 'Holder': 'Blackrock Inc.', 'pctHeld': 0.0722, 'Shares': 536245027, 'Value': 182612881494}, {'Date Reported': Timestamp('2023-06-30 00:00:00'), 'Holder': 'State Street Corporation', 'pctHeld': 0.0395, 'Shares': 293614078, 'Value': 99987338122}, {'Date Reported': Timestamp('2023-06-30 00:00:00'), 'Holder': 'FMR, LLC', 'pctHeld': 0.028299998, 'Shares': 210111250, 'Value': 71551285075}, {'Date Reported': Timestamp('2023-06-30 00:00:00'), 'Holder': 'Price (T.Rowe) Associates Inc', 'pctHeld': 0.0215, 'Shares': 159904219, 'Value': 54453782738}, {'Date Reported': Timestamp('2023-06-30 00:00:00'), 'Holder': 'Geode Capital Management, LLC', 'pctHeld': 0.0199, 'Shares': 148129470, 'Value': 50444009713}, {'Date Reported': Timestamp('2023-06-30 00:00:00'), 'Holder': 'Morgan Stanley', 'pctHeld': 0.0166, 'Shares': 123498322, 'Value': 42056118573}, {'Date Reported': Timestamp('2023-06-30 00:00:00'), 'Holder': 'JP Morgan Chase & Company', 'pctHeld': 0.0152, 'Shares': 113024837, 'Value': 38489477991}, {'Date Reported': Timestamp('2022-12-31 00:00:00'), 'Holder': 'Norges Bank Investment Management', 'pctHeld': 0.0116, 'Shares': 86316926, 'Value': 20700525193}, {'Date Reported': Timestamp('2023-06-30 00:00:00'), 'Holder': 'Capital World Investors', 'pctHeld': 0.0115, 'Shares': 85507261, 'Value': 29118642660}]\u001b[0m\u001b[32;1m\u001b[1;3mHere are the top institutional holders of Microsoft stock:\n",
            "\n",
            "1. Vanguard Group Inc - 8.79% of shares held\n",
            "2. Blackrock Inc. - 7.22% of shares held\n",
            "3. State Street Corporation - 3.95% of shares held\n",
            "4. FMR, LLC - 2.83% of shares held\n",
            "5. Price (T.Rowe) Associates Inc - 2.15% of shares held\n",
            "6. Geode Capital Management, LLC - 1.99% of shares held\n",
            "7. Morgan Stanley - 1.66% of shares held\n",
            "8. JP Morgan Chase & Company - 1.52% of shares held\n",
            "9. Norges Bank Investment Management - 1.16% of shares held\n",
            "10. Capital World Investors - 1.15% of shares held\u001b[0m\n",
            "\n",
            "\u001b[1m> Finished chain.\u001b[0m\n"
          ]
        }
      ]
    },
    {
      "cell_type": "code",
      "source": [
        "print(resp[\"output\"])"
      ],
      "metadata": {
        "colab": {
          "base_uri": "https://localhost:8080/"
        },
        "id": "YZ3hrQiybMHs",
        "outputId": "b0312e01-f288-4212-b8c3-bfea3e7c0ad4"
      },
      "execution_count": 28,
      "outputs": [
        {
          "output_type": "stream",
          "name": "stdout",
          "text": [
            "Here are the top institutional holders of Microsoft stock:\n",
            "\n",
            "1. Vanguard Group Inc - 8.79% of shares held\n",
            "2. Blackrock Inc. - 7.22% of shares held\n",
            "3. State Street Corporation - 3.95% of shares held\n",
            "4. FMR, LLC - 2.83% of shares held\n",
            "5. Price (T.Rowe) Associates Inc - 2.15% of shares held\n",
            "6. Geode Capital Management, LLC - 1.99% of shares held\n",
            "7. Morgan Stanley - 1.66% of shares held\n",
            "8. JP Morgan Chase & Company - 1.52% of shares held\n",
            "9. Norges Bank Investment Management - 1.16% of shares held\n",
            "10. Capital World Investors - 1.15% of shares held\n"
          ]
        }
      ]
    },
    {
      "cell_type": "code",
      "source": [
        "resp = finance_agent_executor.invoke({\"messages\": [HumanMessage(content=\"Which firms recently changed grade of apple stock? Also, return rating changes.\")]})"
      ],
      "metadata": {
        "colab": {
          "base_uri": "https://localhost:8080/"
        },
        "id": "zYcXnThvbROI",
        "outputId": "af6792dc-163d-476d-d9a8-ebfa7f147d41"
      },
      "execution_count": 29,
      "outputs": [
        {
          "output_type": "stream",
          "name": "stdout",
          "text": [
            "\n",
            "\n",
            "\u001b[1m> Entering new AgentExecutor chain...\u001b[0m\n",
            "\u001b[32;1m\u001b[1;3m\n",
            "Invoking: `stock_grade_updrages_downgrades` with `{'ticker': 'AAPL'}`\n",
            "\n",
            "\n",
            "\u001b[0m\u001b[38;5;200m\u001b[1;3m[{'Firm': 'Keybanc', 'ToGrade': 'Underweight', 'FromGrade': 'Sector Weight', 'Action': 'down'}, {'Firm': 'Loop Capital', 'ToGrade': 'Buy', 'FromGrade': 'Hold', 'Action': 'up'}, {'Firm': 'Rosenblatt', 'ToGrade': 'Buy', 'FromGrade': 'Neutral', 'Action': 'up'}, {'Firm': 'Erste Group', 'ToGrade': 'Buy', 'FromGrade': 'Hold', 'Action': 'up'}, {'Firm': 'DA Davidson', 'ToGrade': 'Buy', 'FromGrade': 'Neutral', 'Action': 'up'}, {'Firm': 'Itau BBA', 'ToGrade': 'Market Perform', 'FromGrade': 'Underperform', 'Action': 'up'}, {'Firm': 'Bernstein', 'ToGrade': 'Outperform', 'FromGrade': 'Market Perform', 'Action': 'up'}, {'Firm': 'DZ Bank', 'ToGrade': 'Hold', 'FromGrade': 'Buy', 'Action': 'down'}, {'Firm': 'B of A Securities', 'ToGrade': 'Buy', 'FromGrade': 'Neutral', 'Action': 'up'}, {'Firm': 'Redburn Atlantic', 'ToGrade': 'Neutral', 'FromGrade': 'Buy', 'Action': 'down'}, {'Firm': 'Piper Sandler', 'ToGrade': 'Neutral', 'FromGrade': 'Overweight', 'Action': 'down'}, {'Firm': 'Barclays', 'ToGrade': 'Underweight', 'FromGrade': 'Equal-Weight', 'Action': 'down'}]\u001b[0m\u001b[32;1m\u001b[1;3mHere is the list of firms that recently changed their grade of Apple stock, along with the rating changes:\n",
            "\n",
            "* Keybanc: Downgraded from \"Sector Weight\" to \"Underweight\"\n",
            "* Loop Capital: Upgraded from \"Hold\" to \"Buy\"\n",
            "* Rosenblatt: Upgraded from \"Neutral\" to \"Buy\"\n",
            "* Erste Group: Upgraded from \"Hold\" to \"Buy\"\n",
            "* DA Davidson: Upgraded from \"Neutral\" to \"Buy\"\n",
            "* Itau BBA: Upgraded from \"Underperform\" to \"Market Perform\"\n",
            "* Bernstein: Upgraded from \"Market Perform\" to \"Outperform\"\n",
            "* DZ Bank: Downgraded from \"Buy\" to \"Hold\"\n",
            "* B of A Securities: Upgraded from \"Neutral\" to \"Buy\"\n",
            "* Redburn Atlantic: Downgraded from \"Buy\" to \"Neutral\"\n",
            "* Piper Sandler: Downgraded from \"Overweight\" to \"Neutral\"\n",
            "* Barclays: Downgraded from \"Equal-Weight\" to \"Underweight\"\u001b[0m\n",
            "\n",
            "\u001b[1m> Finished chain.\u001b[0m\n"
          ]
        }
      ]
    },
    {
      "cell_type": "code",
      "source": [
        "print(resp[\"output\"])"
      ],
      "metadata": {
        "colab": {
          "base_uri": "https://localhost:8080/"
        },
        "id": "RaI6fndobSsl",
        "outputId": "36ce8e56-077b-46f0-b7ed-420987f5f241"
      },
      "execution_count": 30,
      "outputs": [
        {
          "output_type": "stream",
          "name": "stdout",
          "text": [
            "Here is the list of firms that recently changed their grade of Apple stock, along with the rating changes:\n",
            "\n",
            "* Keybanc: Downgraded from \"Sector Weight\" to \"Underweight\"\n",
            "* Loop Capital: Upgraded from \"Hold\" to \"Buy\"\n",
            "* Rosenblatt: Upgraded from \"Neutral\" to \"Buy\"\n",
            "* Erste Group: Upgraded from \"Hold\" to \"Buy\"\n",
            "* DA Davidson: Upgraded from \"Neutral\" to \"Buy\"\n",
            "* Itau BBA: Upgraded from \"Underperform\" to \"Market Perform\"\n",
            "* Bernstein: Upgraded from \"Market Perform\" to \"Outperform\"\n",
            "* DZ Bank: Downgraded from \"Buy\" to \"Hold\"\n",
            "* B of A Securities: Upgraded from \"Neutral\" to \"Buy\"\n",
            "* Redburn Atlantic: Downgraded from \"Buy\" to \"Neutral\"\n",
            "* Piper Sandler: Downgraded from \"Overweight\" to \"Neutral\"\n",
            "* Barclays: Downgraded from \"Equal-Weight\" to \"Underweight\"\n"
          ]
        }
      ]
    }
  ]
}